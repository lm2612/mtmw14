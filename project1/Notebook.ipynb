{
 "cells": [
  {
   "cell_type": "markdown",
   "metadata": {},
   "source": [
    "# Ocean Recharge Oscillator\n",
    "## A reduced coupled model for ENSO illustrating the effects of nonlinearity and forcing, based on the model of Fei-Fei Jin (1997)\n"
   ]
  },
  {
   "cell_type": "markdown",
   "metadata": {},
   "source": [
    "Start by stating the problem and the fundamental equations, but do not include lengthy background material or a literature review. The emphasis is on the scientific justification of your method to solve this problem numerically and the accuracy and interpretation of the results. Follow the structure that we discussed in Lecture 1: formulation, implemen- tation, evaluation.\n",
    "\n",
    "Describe scheme used and why \n",
    "LIST PARAMETERS \n",
    "\n",
    "$$b=b_0 \\mu $$\n",
    "$$ R = \\gamma b - c $$\n",
    "\n",
    "Equations:\n",
    "$$ \\frac{dT}{dt} = RT + \\gamma h - \\epsilon (h+bT)^{3} + \\gamma \\xi $$\n",
    "$$ \\frac{dh}{dt} = -rh -\\alpha bT - \\alpha \\xi $$\n",
    "\n"
   ]
  },
  {
   "cell_type": "markdown",
   "metadata": {},
   "source": [
    "## Numerical Method\n",
    "\n",
    "The equations must be examined under different situations to decide which method is suitable. **RE WRITE- generalise. not just for mu v large and mu v small** In the absence of non-linearity ($\\epsilon=0$) and wind stress $\\xi=0$, if $\\mu$ is strong enough, the RT term dominates the time evolution of T and the T grows exponentially while the $\\alpha b T$ term dominates the h equation and h grows exponentially negative. If $\\mu$ is too weak, $-rh$ dominates the equation for h causing an exponential decay in h and $\\gamma h$ dominates the equation for T, causing rapid decay for T also. Finally, for a critical value of $\\mu$ which would cause a balancing of the terms, both T and h will oscillate. Hence, the requirement for the method is that it is accurate for oscillatory, growth and decay problems. It is known that the 4th order Runge-Kutta behaves well in all three regimes and does not give rise to phase or amplitude errors.  ***** FIND OUT IF THIS IS TRUE/REFERENCE**** This is analysed more rigorously in section ?.\n",
    "\n",
    "The critical value of $\\mu$ for the stability can be calculated. Writing equations ? in matrix form as :\n",
    "\n",
    "$$ \\frac{d}{dt} \\begin{pmatrix} T \\\\ h \\end{pmatrix} = M \\begin{pmatrix} T \\\\ h \\end{pmatrix} $$\n",
    "\n",
    "with $$M = \\begin{pmatrix} R & \\gamma \\\\  -\\alpha b & -r \\end{pmatrix}$$\n",
    "\n",
    "M can be diagonalised using new variables, $\\hat T, \\hat h $ giving a new matrix $A$ from which eigenvalues $\\lambda$ can be calculated. These equations are hence decoupled and the eigenvectors are proportional to  $ $. Hence there is an amplification factor proportional to the  \n",
    "\n",
    "AMPLITUDE REAL PHASE IMAGINIARY.\n",
    "\n",
    "\n",
    "\n",
    "The eigenvalues of this matrix are then :\n",
    "\n",
    "... REFERENCE PL VIDALE.\n",
    "\n",
    "Then amplification factor =1 when mu = 2/3\n",
    "\n",
    "The method chosen was Runga-Kutta 4th Order based on <cite data-cite=\"something\">(SOME CITATION, year)</cite>\n"
   ]
  },
  {
   "cell_type": "markdown",
   "metadata": {},
   "source": [
    "As described above, analytically the equation gives rise to stable oscillations when $\\mu=\\frac{2}{3}$. Figure 1 shows a stable oscillation in phase-space, the trajectory makes a complete cycle and returns to the same point. Therefore it will continue this indefinitely, and is hence on an oscillatory trajectory.\n",
    "\n",
    "\n"
   ]
  },
  {
   "cell_type": "markdown",
   "metadata": {},
   "source": [
    "## Task A\n",
    "First test with T0=0.125 and h0=0 for 1 period T=42"
   ]
  },
  {
   "cell_type": "code",
   "execution_count": null,
   "metadata": {
    "collapsed": false
   },
   "outputs": [],
   "source": [
    "from parameters import *    # Imports all fixed parameters for this project\n",
    "from plot import *\n",
    "from schemes import *\n",
    "\n",
    "T,h = rk4(T0=0.125, h0=0., mu0=2./3., nt=42)\n",
    "phase1=phase_plot(T,h)\n",
    "phase1.set_size_inches(5,4)\n",
    "plt.text(-1.5, -22,'Figure 1:')\n",
    "plt.show()\n",
    "\n"
   ]
  },
  {
   "cell_type": "markdown",
   "metadata": {},
   "source": [
    "## Task B\n",
    "period = 5 means nt=5*41=205"
   ]
  },
  {
   "cell_type": "markdown",
   "metadata": {},
   "source": [
    "Run for 205 timesteps (approx 5 periods) with mu = 0.5 (mu<2/3)"
   ]
  },
  {
   "cell_type": "code",
   "execution_count": null,
   "metadata": {
    "collapsed": false
   },
   "outputs": [],
   "source": [
    "T,h = rk4(T0=0.125, h0=0., mu0=0.5, nt=210)\n",
    "phase2=phase_plot(T,h)\n",
    "time2=time_plot(T,h)\n",
    "\n",
    "phase2.set_size_inches(5,4)\n",
    "time2.set_size_inches(5,4)\n",
    "\n",
    "plt.show()"
   ]
  },
  {
   "cell_type": "markdown",
   "metadata": {
    "collapsed": true
   },
   "source": [
    "When $\\mu < \\frac{2}{3} $, the oscillations are damped out in figure ?. This implies the amplification factor $|A|<1$ for the RK4 method. This is how the analytic equations ? should behave when $\\mu < \\frac{2}{3} $, as described above and shown in fig ? . \n",
    "\n",
    "The RK4 method for the recharge oscillator is then tested with $\\mu>\\frac{2}{3}$. In this example, $\\mu=0.75$ is chosen."
   ]
  },
  {
   "cell_type": "code",
   "execution_count": null,
   "metadata": {
    "collapsed": false
   },
   "outputs": [],
   "source": [
    "T,h = rk4(T0=0.125, h0=0., mu0=0.75, nt=210)\n",
    "phase3=phase_plot(T,h)\n",
    "time3=time_plot(T,h)\n",
    "\n",
    "plt.show()"
   ]
  },
  {
   "cell_type": "markdown",
   "metadata": {},
   "source": [
    "When $\\mu > \\frac{2}{3} $, there is exponential growth in T and h in equations ? **CHECK THIS- DOES NOT AGREE WITH WHAT I WROTE EARLIER, should h be pos and T neg??? ** The RK4 method used to solve these equations also shows an unstable mode in figure ?, suggesting that the amplification factor $|A|>1$. This shows that the method correctly represents the equations in this regime as well. \n",
    "\n",
    "Jin shows that the amplitude of the growth should be limited by non-linear terms in equations ?. This is investigated in the next section by allowing $\\epsilon$ to be non-zero <cite data-cite=\"Jin1997a\">(Jin, 1997a)</cite>.\n",
    "\n",
    "This is known as 'Self-excitation' of the recharge oscillator <cite data-cite=\"Jin1997a\">(Jin, 1997a)</cite>. \n",
    "\n"
   ]
  },
  {
   "cell_type": "markdown",
   "metadata": {},
   "source": [
    "# Task C\n",
    "\n",
    "non linearity: add epsilon=0.1"
   ]
  },
  {
   "cell_type": "code",
   "execution_count": null,
   "metadata": {
    "collapsed": false
   },
   "outputs": [],
   "source": [
    "T,h=rk4(T0=0.125, h0=0., mu0=2./3., nt=210, epsilon=0.1)\n",
    "time4=time_plot(T,h)\n",
    "phase4=phase_plot(T,h)\n",
    "\n",
    "plt.show()"
   ]
  },
  {
   "cell_type": "markdown",
   "metadata": {},
   "source": [
    "compare to above...\n",
    "\n",
    "now increase mu and compare again to above for mu=0.8"
   ]
  },
  {
   "cell_type": "code",
   "execution_count": null,
   "metadata": {
    "collapsed": false
   },
   "outputs": [],
   "source": [
    "T,h=rk4(T0=0.125, h0=0., mu0=0.8, nt=210, epsilon=0.1)\n",
    "    \n",
    "time_plot(T,h)\n",
    "phase_plot(T,h)"
   ]
  },
  {
   "cell_type": "code",
   "execution_count": null,
   "metadata": {
    "collapsed": false
   },
   "outputs": [],
   "source": [
    "T,h=rk4(T0=0.125, h0=0., mu0=1.5, nt=210, epsilon=0.1)\n",
    "    \n",
    "time_plot(T,h)\n",
    "phase_plot(T,h)"
   ]
  },
  {
   "cell_type": "markdown",
   "metadata": {},
   "source": [
    "# Task D\n",
    "include annual frequency for mu\n",
    "set mu_ann=0.2"
   ]
  },
  {
   "cell_type": "code",
   "execution_count": null,
   "metadata": {
    "collapsed": false
   },
   "outputs": [],
   "source": [
    "T,h=rk4(T0=0.125, h0=0., mu0=0.75, nt=210, epsilon=0.1, mu_ann=0.2)\n",
    "time_plot(T,h)\n",
    "phase_plot(T,h)"
   ]
  },
  {
   "cell_type": "markdown",
   "metadata": {},
   "source": [
    "# Task E\n",
    "add wind stress forcing"
   ]
  },
  {
   "cell_type": "code",
   "execution_count": null,
   "metadata": {
    "collapsed": false
   },
   "outputs": [],
   "source": [
    "T,h=rk4(T0=0.125, h0=0., mu0=0.75, nt=210, epsilon=0.1, mu_ann=0.2, f_ann=0.02, f_ran=0.2)\n",
    "time_plot(T,h)\n",
    "phase_plot(T,h)"
   ]
  },
  {
   "cell_type": "markdown",
   "metadata": {},
   "source": [
    "can check effects of annual forcing and random forcing separately:"
   ]
  },
  {
   "cell_type": "code",
   "execution_count": null,
   "metadata": {
    "collapsed": false
   },
   "outputs": [],
   "source": [
    "print('Annual forcing')\n",
    "\n",
    "T,h=rk4(T0=1.125, h0=0., mu0=0.75, nt=210, epsilon=0.1, mu_ann=0.2, f_ann=0.02, f_ran=0.)\n",
    "time_plot(T,h)\n",
    "\n",
    "print('Random forcing')\n",
    "\n",
    "T,h=rk4(T0=1.125, h0=0., mu0=0.75, nt=210, epsilon=0.1, mu_ann=0.2, f_ann=0.0, f_ran=0.2)\n",
    "time_plot(T,h)\n",
    "\n"
   ]
  },
  {
   "cell_type": "markdown",
   "metadata": {},
   "source": [
    "Check stochastic excitation due to f_ran and see Jin paper stochastic part"
   ]
  },
  {
   "cell_type": "code",
   "execution_count": null,
   "metadata": {
    "collapsed": false
   },
   "outputs": [],
   "source": [
    "T,h=rk4(T0=0.125, h0=0., mu0=0.5, nt=210, epsilon=0.1, mu_ann=0.2, f_ann=0.02, f_ran=0.2)\n",
    "time_plot(T,h)\n",
    "phase_plot(T,h)\n",
    "\n",
    "plt.show()"
   ]
  },
  {
   "cell_type": "markdown",
   "metadata": {},
   "source": [
    "Now oscillation does not die out - stochastic excitation is seen instead cite Jin"
   ]
  },
  {
   "cell_type": "markdown",
   "metadata": {},
   "source": [
    "# Task F:\n",
    "Ensembles"
   ]
  },
  {
   "cell_type": "code",
   "execution_count": null,
   "metadata": {
    "collapsed": true
   },
   "outputs": [],
   "source": []
  }
 ],
 "metadata": {
  "kernelspec": {
   "display_name": "Python 2",
   "language": "python",
   "name": "python2"
  },
  "language_info": {
   "codemirror_mode": {
    "name": "ipython",
    "version": 2
   },
   "file_extension": ".py",
   "mimetype": "text/x-python",
   "name": "python",
   "nbconvert_exporter": "python",
   "pygments_lexer": "ipython2",
   "version": "2.7.12"
  }
 },
 "nbformat": 4,
 "nbformat_minor": 1
}
